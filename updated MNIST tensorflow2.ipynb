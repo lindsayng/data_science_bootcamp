{
 "cells": [
  {
   "cell_type": "markdown",
   "metadata": {},
   "source": [
    "# imports"
   ]
  },
  {
   "cell_type": "code",
   "execution_count": 1,
   "metadata": {},
   "outputs": [
    {
     "name": "stdout",
     "output_type": "stream",
     "text": [
      "\n",
      "WARNING: The TensorFlow contrib module will not be included in TensorFlow 2.0.\n",
      "For more information, please see:\n",
      "  * https://github.com/tensorflow/community/blob/master/rfcs/20180907-contrib-sunset.md\n",
      "  * https://github.com/tensorflow/addons\n",
      "If you depend on functionality not listed there, please file an issue.\n",
      "\n"
     ]
    }
   ],
   "source": [
    "import numpy as np\n",
    "import tensorflow as tf\n",
    "import tensorflow_datasets as tfds\n",
    "tf.enable_eager_execution()"
   ]
  },
  {
   "cell_type": "code",
   "execution_count": 2,
   "metadata": {},
   "outputs": [],
   "source": [
    "#!pip install tensorflow_datasets"
   ]
  },
  {
   "cell_type": "markdown",
   "metadata": {},
   "source": [
    "# load and preprocess data"
   ]
  },
  {
   "cell_type": "code",
   "execution_count": 3,
   "metadata": {},
   "outputs": [
    {
     "name": "stdout",
     "output_type": "stream",
     "text": [
      "WARNING:tensorflow:From C:\\Users\\Lindsay\\Anaconda3\\envs\\py36\\lib\\site-packages\\tensorflow\\python\\ops\\control_flow_ops.py:423: colocate_with (from tensorflow.python.framework.ops) is deprecated and will be removed in a future version.\n",
      "Instructions for updating:\n",
      "Colocations handled automatically by placer.\n"
     ]
    },
    {
     "name": "stderr",
     "output_type": "stream",
     "text": [
      "WARNING: Logging before flag parsing goes to stderr.\n",
      "W0919 23:03:31.143882  3448 deprecation.py:323] From C:\\Users\\Lindsay\\Anaconda3\\envs\\py36\\lib\\site-packages\\tensorflow\\python\\ops\\control_flow_ops.py:423: colocate_with (from tensorflow.python.framework.ops) is deprecated and will be removed in a future version.\n",
      "Instructions for updating:\n",
      "Colocations handled automatically by placer.\n",
      "W0919 23:03:31.388738  3448 dataset_builder.py:439] Warning: Setting shuffle_files=True because split=TRAIN and shuffle_files=None. This behavior will be deprecated on 2019-08-06, at which point shuffle_files=False will be the default for all splits.\n"
     ]
    }
   ],
   "source": [
    "mnist_dataset, mnist_info = tfds.load(name='mnist', with_info = True, as_supervised = True)"
   ]
  },
  {
   "cell_type": "code",
   "execution_count": 4,
   "metadata": {},
   "outputs": [],
   "source": [
    "#!pip install tensorflow==2.0.0-beta1"
   ]
  },
  {
   "cell_type": "code",
   "execution_count": 5,
   "metadata": {},
   "outputs": [],
   "source": [
    "mnist_train, mnist_test = mnist_dataset['train'], mnist_dataset['test']\n",
    "num_validation_samples = 0.1 * mnist_info.splits['train'].num_examples\n",
    "num_validation_samples = tf.cast(num_validation_samples, tf.int64)\n",
    "num_test_samples = mnist_info.splits['test'].num_examples\n",
    "num_test_samples = tf.cast(num_test_samples, tf.int64)\n",
    "\n"
   ]
  },
  {
   "cell_type": "code",
   "execution_count": 6,
   "metadata": {},
   "outputs": [],
   "source": [
    "def scale(image, label):\n",
    "    image = tf.cast(image, tf.float32)\n",
    "    image /= 255.\n",
    "    return image, label\n"
   ]
  },
  {
   "cell_type": "code",
   "execution_count": 7,
   "metadata": {},
   "outputs": [],
   "source": [
    "scaled_train_and_validation_data = mnist_train.map(scale)"
   ]
  },
  {
   "cell_type": "code",
   "execution_count": 8,
   "metadata": {},
   "outputs": [],
   "source": [
    "test_data = mnist_test.map(scale)"
   ]
  },
  {
   "cell_type": "code",
   "execution_count": 9,
   "metadata": {},
   "outputs": [],
   "source": [
    "buffer_size = 10000\n",
    "shuffled_train_and_validation_data = scaled_train_and_validation_data.shuffle(buffer_size)\n",
    "validation_data = shuffled_train_and_validation_data.take(num_validation_samples)\n",
    "train_data = shuffled_train_and_validation_data.skip(num_validation_samples)\n"
   ]
  },
  {
   "cell_type": "code",
   "execution_count": 10,
   "metadata": {},
   "outputs": [],
   "source": [
    "batch_size = 100\n",
    "train_data = train_data.batch(batch_size)\n",
    "validation_data = validation_data.batch(num_validation_samples)\n",
    "test_data = test_data.batch(num_test_samples)\n",
    "\n",
    "validation_inputs, validation_targets = next(iter(validation_data))"
   ]
  },
  {
   "cell_type": "markdown",
   "metadata": {},
   "source": [
    "# outline the model"
   ]
  },
  {
   "cell_type": "code",
   "execution_count": 11,
   "metadata": {},
   "outputs": [],
   "source": [
    "input_size = 784\n",
    "output_size = 10\n",
    "hidden_layer_size =100\n",
    "\n",
    "model = tf.keras.Sequential([\n",
    "                            tf.keras.layers.Flatten(input_shape =(28,28,1)),\n",
    "                            tf.keras.layers.Dense(hidden_layer_size, activation = 'relu'),\n",
    "                            tf.keras.layers.Dense(hidden_layer_size, activation = 'relu'),\n",
    "                            tf.keras.layers.Dense(output_size, activation = 'softmax')            \n",
    "                            ])"
   ]
  },
  {
   "cell_type": "markdown",
   "metadata": {},
   "source": [
    "# optimizer and loss function"
   ]
  },
  {
   "cell_type": "code",
   "execution_count": 12,
   "metadata": {},
   "outputs": [],
   "source": [
    "model.compile(optimizer = 'adam', loss = 'sparse_categorical_crossentropy', metrics = ['accuracy'])"
   ]
  },
  {
   "cell_type": "markdown",
   "metadata": {},
   "source": [
    "# training"
   ]
  },
  {
   "cell_type": "code",
   "execution_count": 14,
   "metadata": {},
   "outputs": [
    {
     "name": "stdout",
     "output_type": "stream",
     "text": [
      "Epoch 1/5\n",
      "6000/6000 [==============================] - ETA: 15s - loss: 0.3615 - acc: 0.86 - ETA: 1s - loss: 0.3538 - acc: 0.8890 - ETA: 1s - loss: 0.3528 - acc: 0.890 - ETA: 1s - loss: 0.3587 - acc: 0.889 - ETA: 0s - loss: 0.3619 - acc: 0.888 - ETA: 0s - loss: 0.3555 - acc: 0.888 - ETA: 0s - loss: 0.3634 - acc: 0.889 - ETA: 0s - loss: 0.3568 - acc: 0.891 - ETA: 0s - loss: 0.3475 - acc: 0.894 - ETA: 0s - loss: 0.3544 - acc: 0.895 - ETA: 0s - loss: 0.3540 - acc: 0.895 - ETA: 0s - loss: 0.3526 - acc: 0.895 - 1s 149us/sample - loss: 0.3553 - acc: 0.8950\n",
      "Epoch 2/5\n",
      "6000/6000 [==============================] - ETA: 0s - loss: 0.1969 - acc: 0.960 - ETA: 0s - loss: 0.2096 - acc: 0.945 - ETA: 0s - loss: 0.2472 - acc: 0.933 - ETA: 0s - loss: 0.2479 - acc: 0.936 - ETA: 0s - loss: 0.2762 - acc: 0.922 - ETA: 0s - loss: 0.2668 - acc: 0.923 - ETA: 0s - loss: 0.2728 - acc: 0.922 - ETA: 0s - loss: 0.2677 - acc: 0.924 - ETA: 0s - loss: 0.2608 - acc: 0.925 - ETA: 0s - loss: 0.2647 - acc: 0.924 - ETA: 0s - loss: 0.2673 - acc: 0.924 - ETA: 0s - loss: 0.2682 - acc: 0.922 - 1s 110us/sample - loss: 0.2682 - acc: 0.9223\n",
      "Epoch 3/5\n",
      "6000/6000 [==============================] - ETA: 0s - loss: 0.1268 - acc: 0.970 - ETA: 0s - loss: 0.1901 - acc: 0.943 - ETA: 0s - loss: 0.2036 - acc: 0.945 - ETA: 0s - loss: 0.2132 - acc: 0.939 - ETA: 0s - loss: 0.2234 - acc: 0.935 - ETA: 0s - loss: 0.2172 - acc: 0.937 - ETA: 0s - loss: 0.2178 - acc: 0.937 - ETA: 0s - loss: 0.2168 - acc: 0.938 - ETA: 0s - loss: 0.2160 - acc: 0.938 - ETA: 0s - loss: 0.2194 - acc: 0.937 - 1s 84us/sample - loss: 0.2195 - acc: 0.9373\n",
      "Epoch 4/5\n",
      "6000/6000 [==============================] - ETA: 0s - loss: 0.1382 - acc: 0.960 - ETA: 0s - loss: 0.1762 - acc: 0.948 - ETA: 0s - loss: 0.1966 - acc: 0.947 - ETA: 0s - loss: 0.2188 - acc: 0.938 - ETA: 0s - loss: 0.2146 - acc: 0.938 - ETA: 0s - loss: 0.2021 - acc: 0.943 - ETA: 0s - loss: 0.2044 - acc: 0.943 - ETA: 0s - loss: 0.2030 - acc: 0.942 - ETA: 0s - loss: 0.2064 - acc: 0.940 - 0s 74us/sample - loss: 0.2071 - acc: 0.9405\n",
      "Epoch 5/5\n",
      "6000/6000 [==============================] - ETA: 0s - loss: 0.1180 - acc: 0.970 - ETA: 0s - loss: 0.1544 - acc: 0.956 - ETA: 0s - loss: 0.1748 - acc: 0.953 - ETA: 0s - loss: 0.2046 - acc: 0.941 - ETA: 0s - loss: 0.2001 - acc: 0.944 - ETA: 0s - loss: 0.1876 - acc: 0.949 - ETA: 0s - loss: 0.1879 - acc: 0.948 - ETA: 0s - loss: 0.1887 - acc: 0.946 - 0s 71us/sample - loss: 0.1891 - acc: 0.9452\n"
     ]
    },
    {
     "data": {
      "text/plain": [
       "<tensorflow.python.keras.callbacks.History at 0x276e3495668>"
      ]
     },
     "execution_count": 14,
     "metadata": {},
     "output_type": "execute_result"
    }
   ],
   "source": [
    "num_epochs = 5\n",
    "model.fit(train_data, epochs = num_epochs, validation_data = (validation_inputs, validation_targets), verbose = 4, steps_per_epoch = 100)"
   ]
  },
  {
   "cell_type": "markdown",
   "metadata": {},
   "source": [
    "# test the model"
   ]
  },
  {
   "cell_type": "code",
   "execution_count": 17,
   "metadata": {},
   "outputs": [
    {
     "name": "stdout",
     "output_type": "stream",
     "text": [
      "  1/100 [..............................] - ETA: 4:05 - loss: 0.1730 - acc: 0.9496WARNING:tensorflow:Your dataset iterator ran out of data.\n"
     ]
    },
    {
     "name": "stderr",
     "output_type": "stream",
     "text": [
      "W0919 23:09:17.463999  3448 training_generator.py:261] Your dataset iterator ran out of data.\n"
     ]
    },
    {
     "name": "stdout",
     "output_type": "stream",
     "text": [
      "Test loss: 0.00. Test accuracy: 94.96%\n"
     ]
    }
   ],
   "source": [
    "test_loss, test_accuracy = model.evaluate(test_data, steps = 100)\n",
    "print('Test loss: {0:.2f}. Test accuracy: {1:.2f}%'.format(test_loss, test_accuracy*100.))"
   ]
  },
  {
   "cell_type": "code",
   "execution_count": null,
   "metadata": {},
   "outputs": [],
   "source": []
  }
 ],
 "metadata": {
  "kernelspec": {
   "display_name": "Python [conda env:py36]",
   "language": "python",
   "name": "conda-env-py36-py"
  },
  "language_info": {
   "codemirror_mode": {
    "name": "ipython",
    "version": 3
   },
   "file_extension": ".py",
   "mimetype": "text/x-python",
   "name": "python",
   "nbconvert_exporter": "python",
   "pygments_lexer": "ipython3",
   "version": "3.6.8"
  }
 },
 "nbformat": 4,
 "nbformat_minor": 2
}
